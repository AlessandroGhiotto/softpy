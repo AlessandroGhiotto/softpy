{
 "cells": [
  {
   "cell_type": "markdown",
   "id": "391f1425-7e0f-48da-8239-0d2191006f5a",
   "metadata": {},
   "source": [
    "In this lesson we will see an introduction to Python libraries we will use during the course, in particular:\n",
    "\n",
    "* numpy: a library for matrix manipulation and computations\n",
    "* scipy"
   ]
  },
  {
   "cell_type": "code",
   "execution_count": 1,
   "id": "dcdb1480-9710-4a64-8b8f-f93570f381ef",
   "metadata": {},
   "outputs": [],
   "source": [
    "import numpy as np\n",
    "import matplotlib.pyplot as plt"
   ]
  },
  {
   "cell_type": "markdown",
   "id": "da918939-035b-44c7-9def-e330cb9a6748",
   "metadata": {},
   "source": [
    "In our exercises we will frequently use arrays to store information: in Python these are usually stored in terms of lists.\n",
    "Python lists, however, are not computationally efficient. Numpy allows to address this issue through an array data structure.\n",
    "They can be easily defined from Python lists"
   ]
  },
  {
   "cell_type": "code",
   "execution_count": 2,
   "id": "615d58c8-2ce8-4335-b21b-2b9360409f41",
   "metadata": {},
   "outputs": [
    {
     "data": {
      "text/plain": [
       "array([1, 2, 3, 4, 5])"
      ]
     },
     "execution_count": 2,
     "metadata": {},
     "output_type": "execute_result"
    }
   ],
   "source": [
    "l = [1,2,3,4,5]\n",
    "arr = np.array(l)\n",
    "arr"
   ]
  },
  {
   "cell_type": "markdown",
   "id": "ed265f7e-0332-4897-bfca-10a009ecba82",
   "metadata": {},
   "source": [
    "A numpy array has an associated data type: trying to assign a value that cannot be automatically casted (converted) will result in an error"
   ]
  },
  {
   "cell_type": "code",
   "execution_count": 3,
   "id": "f5cdc86c-faf7-4fca-97dc-52581a1f1470",
   "metadata": {},
   "outputs": [
    {
     "name": "stdout",
     "output_type": "stream",
     "text": [
      "int64\n"
     ]
    },
    {
     "ename": "ValueError",
     "evalue": "invalid literal for int() with base 10: 'Hello world'",
     "output_type": "error",
     "traceback": [
      "\u001b[0;31m---------------------------------------------------------------------------\u001b[0m",
      "\u001b[0;31mValueError\u001b[0m                                Traceback (most recent call last)",
      "Cell \u001b[0;32mIn[3], line 3\u001b[0m\n\u001b[1;32m      1\u001b[0m \u001b[38;5;28mprint\u001b[39m(arr\u001b[38;5;241m.\u001b[39mdtype)\n\u001b[1;32m      2\u001b[0m arr[\u001b[38;5;241m0\u001b[39m] \u001b[38;5;241m=\u001b[39m \u001b[38;5;241m0.1\u001b[39m\n\u001b[0;32m----> 3\u001b[0m arr[\u001b[38;5;241m0\u001b[39m] \u001b[38;5;241m=\u001b[39m \u001b[38;5;124m\"\u001b[39m\u001b[38;5;124mHello world\u001b[39m\u001b[38;5;124m\"\u001b[39m\n",
      "\u001b[0;31mValueError\u001b[0m: invalid literal for int() with base 10: 'Hello world'"
     ]
    }
   ],
   "source": [
    "print(arr.dtype)\n",
    "arr[0] = 0.1\n",
    "arr[0] = \"Hello world\""
   ]
  },
  {
   "cell_type": "markdown",
   "id": "f26d006d-db80-46d2-a07c-522158227bdf",
   "metadata": {},
   "source": [
    "Numpy array can however generally store data of different types: in this case the base type of the array is 'object'"
   ]
  },
  {
   "cell_type": "code",
   "execution_count": 4,
   "id": "310e0a6f-8f4d-4edb-8b1a-455cb174e0c5",
   "metadata": {},
   "outputs": [
    {
     "data": {
      "text/plain": [
       "array([0.5, 'Hello world', 5], dtype=object)"
      ]
     },
     "execution_count": 4,
     "metadata": {},
     "output_type": "execute_result"
    }
   ],
   "source": [
    "arr = np.array([0.5, \"Hello world\", 5], dtype=object)\n",
    "arr"
   ]
  },
  {
   "cell_type": "markdown",
   "id": "c7e10afd-efa5-4349-a578-0d22f6cb7f1e",
   "metadata": {},
   "source": [
    "The major advantage of numpy is that it enables easy vector-level operations"
   ]
  },
  {
   "cell_type": "code",
   "execution_count": 5,
   "id": "684252d4-2d1a-4efa-868f-2cec2063860a",
   "metadata": {},
   "outputs": [
    {
     "name": "stdout",
     "output_type": "stream",
     "text": [
      "[1, 2, 3, 4, 5, 2, 3, 4, 5, 6]  <= concatenation\n",
      "[1, 2, 3, 4, 5, 1, 2, 3, 4, 5]  <= replication\n",
      "[ 3  5  7  9 11]  <= element-wise sum\n",
      "[ 2  4  6  8 10]  <= element-wise product\n"
     ]
    }
   ],
   "source": [
    "l1 = [1,2,3,4,5]\n",
    "l2 = [2,3,4,5,6]\n",
    "\n",
    "print(l1 + l2, \" <= concatenation\")\n",
    "print(l1*2, \" <= replication\")\n",
    "\n",
    "a1 = np.array(l1)\n",
    "a2 = np.array(l2)\n",
    "\n",
    "print(a1 + a2, \" <= element-wise sum\")\n",
    "print(a1*2, \" <= element-wise product\")"
   ]
  },
  {
   "cell_type": "markdown",
   "id": "9e4c9a40-59d1-4b44-9ca6-28b63f67808c",
   "metadata": {},
   "source": [
    "We can also directly define numpy vectors using functions. This is especially useful when we need special vectors or matrices"
   ]
  },
  {
   "cell_type": "code",
   "execution_count": 6,
   "id": "e02e5c3b-c6cb-429e-8d1c-2c04a825ef6a",
   "metadata": {},
   "outputs": [
    {
     "name": "stdout",
     "output_type": "stream",
     "text": [
      "[0. 0. 0. 0. 0.]\n",
      "\n",
      "[1. 1. 1. 1. 1.]\n",
      "\n",
      "[[1. 0. 0. 0. 0.]\n",
      " [0. 1. 0. 0. 0.]\n",
      " [0. 0. 1. 0. 0.]\n",
      " [0. 0. 0. 1. 0.]\n",
      " [0. 0. 0. 0. 1.]]\n",
      "\n"
     ]
    }
   ],
   "source": [
    "z = np.zeros(5)\n",
    "print(z)\n",
    "print()\n",
    "\n",
    "o = np.ones(5)\n",
    "print(o)\n",
    "print()\n",
    "\n",
    "M = np.eye(5)\n",
    "print(M)\n",
    "print()"
   ]
  },
  {
   "cell_type": "markdown",
   "id": "59085779-e2c4-4384-bfce-69362870f79f",
   "metadata": {},
   "source": [
    "One of the basic elements of a numpy array is its shape: it tells us the number of dimensions and the size of each of them.\n",
    "E.g. the shape of a 3x2 matrix is (3,2), while the shape of a vector of 5 elements is (5,)"
   ]
  },
  {
   "cell_type": "code",
   "execution_count": 7,
   "id": "c4fc53f9-b434-46a4-9419-ff2c5c3ca957",
   "metadata": {},
   "outputs": [
    {
     "name": "stdout",
     "output_type": "stream",
     "text": [
      "(5,)\n",
      "\n",
      "(5, 5)\n"
     ]
    }
   ],
   "source": [
    "print(z.shape)\n",
    "print()\n",
    "print(M.shape)"
   ]
  },
  {
   "cell_type": "markdown",
   "id": "8a666a1d-34c8-402a-b786-f4b1897644f3",
   "metadata": {},
   "source": [
    "numpy allows you to easily make linear algebraic computations"
   ]
  },
  {
   "cell_type": "code",
   "execution_count": 8,
   "id": "a2eea295-2457-4ca5-90a6-410fadbba584",
   "metadata": {},
   "outputs": [
    {
     "name": "stdout",
     "output_type": "stream",
     "text": [
      "[1. 1. 1. 1. 1.] <= Matrix-vector product\n",
      "\n",
      "0.0 <= dot-product\n"
     ]
    }
   ],
   "source": [
    "print(M.dot(o), \"<= Matrix-vector product\")\n",
    "print()\n",
    "print(o.dot(z), \"<= dot-product\")"
   ]
  },
  {
   "cell_type": "markdown",
   "id": "dd386e27-7ab8-40f1-aa69-45b620daa174",
   "metadata": {},
   "source": [
    "numpy usually automatically infers how to perform operations between array with different shapes: this is called *broadcasting*.\n",
    "In general, numpy replicates one (or both) of the arrays across some dimension, so that the final shapes of the two array match."
   ]
  },
  {
   "cell_type": "code",
   "execution_count": 9,
   "id": "4658dd4f-621d-4f2a-8004-ac315b1ed361",
   "metadata": {},
   "outputs": [
    {
     "data": {
      "text/plain": [
       "array([[1., 2., 3., 4., 5.],\n",
       "       [1., 2., 3., 4., 5.],\n",
       "       [1., 2., 3., 4., 5.],\n",
       "       [1., 2., 3., 4., 5.],\n",
       "       [1., 2., 3., 4., 5.]])"
      ]
     },
     "execution_count": 9,
     "metadata": {},
     "output_type": "execute_result"
    }
   ],
   "source": [
    "np.ones((5,5))*np.array([1,2,3,4,5])"
   ]
  },
  {
   "cell_type": "markdown",
   "id": "cf0102bd-33c7-4507-9278-46b62bdf6928",
   "metadata": {},
   "source": [
    "However, it doesn't always work.\n",
    "When operating on two arrays, numpy compares their shapes element-wise. It starts with the trailing (i.e. rightmost) dimension and works its way left. Two dimensions are compatible when\n",
    "\n",
    "* they are equal, or\n",
    "\n",
    "* one of them is 1.\n",
    "\n",
    "If these conditions are not met, a ValueError: operands could not be broadcast together exception is thrown, indicating that the arrays have incompatible shapes.\n",
    "\n",
    "See also https://numpy.org/doc/stable/user/basics.broadcasting.html for further info on this"
   ]
  },
  {
   "cell_type": "code",
   "execution_count": 10,
   "id": "a9765971-aa77-44f0-a152-a2c40a2df29f",
   "metadata": {},
   "outputs": [
    {
     "ename": "ValueError",
     "evalue": "operands could not be broadcast together with shapes (5,5) (5,3) ",
     "output_type": "error",
     "traceback": [
      "\u001b[0;31m---------------------------------------------------------------------------\u001b[0m",
      "\u001b[0;31mValueError\u001b[0m                                Traceback (most recent call last)",
      "Cell \u001b[0;32mIn[10], line 1\u001b[0m\n\u001b[0;32m----> 1\u001b[0m \u001b[43mnp\u001b[49m\u001b[38;5;241;43m.\u001b[39;49m\u001b[43mones\u001b[49m\u001b[43m(\u001b[49m\u001b[43m(\u001b[49m\u001b[38;5;241;43m5\u001b[39;49m\u001b[43m,\u001b[49m\u001b[38;5;241;43m5\u001b[39;49m\u001b[43m)\u001b[49m\u001b[43m)\u001b[49m\u001b[43m \u001b[49m\u001b[38;5;241;43m*\u001b[39;49m\u001b[43m \u001b[49m\u001b[43mnp\u001b[49m\u001b[38;5;241;43m.\u001b[39;49m\u001b[43mones\u001b[49m\u001b[43m(\u001b[49m\u001b[43m(\u001b[49m\u001b[38;5;241;43m5\u001b[39;49m\u001b[43m,\u001b[49m\u001b[38;5;241;43m3\u001b[39;49m\u001b[43m)\u001b[49m\u001b[43m)\u001b[49m\n",
      "\u001b[0;31mValueError\u001b[0m: operands could not be broadcast together with shapes (5,5) (5,3) "
     ]
    }
   ],
   "source": [
    "np.ones((5,5)) * np.ones((5,3))"
   ]
  },
  {
   "cell_type": "markdown",
   "id": "b07124da-d34b-44f7-99e9-213de17b086b",
   "metadata": {},
   "source": [
    "numpy also provides ways to perform other operations that are useful for several tasks. See the documentation whenever you think you may need some functionality: perhaps it is already implemented!"
   ]
  },
  {
   "cell_type": "code",
   "execution_count": 11,
   "id": "c7d00e3d-f67a-4c27-8024-5949f3693006",
   "metadata": {},
   "outputs": [
    {
     "name": "stdout",
     "output_type": "stream",
     "text": [
      "[[1. 1. 1. 1. 1.]\n",
      " [2. 2. 2. 2. 2.]\n",
      " [3. 3. 3. 3. 3.]\n",
      " [4. 4. 4. 4. 4.]\n",
      " [5. 5. 5. 5. 5.]]  <= transpose\n",
      "\n",
      "[[ 1.87096774 -0.25806452 -0.38709677 -0.51612903 -0.64516129]\n",
      " [-0.12903226  1.74193548 -0.38709677 -0.51612903 -0.64516129]\n",
      " [-0.12903226 -0.25806452  1.61290323 -0.51612903 -0.64516129]\n",
      " [-0.12903226 -0.25806452 -0.38709677  1.48387097 -0.64516129]\n",
      " [-0.12903226 -0.25806452 -0.38709677 -0.51612903  1.35483871]]  <= inverse\n",
      "\n",
      "[0.         0.01010101 0.02020202 0.03030303 0.04040404 0.05050505\n",
      " 0.06060606 0.07070707 0.08080808 0.09090909 0.1010101  0.11111111\n",
      " 0.12121212 0.13131313 0.14141414 0.15151515 0.16161616 0.17171717\n",
      " 0.18181818 0.19191919 0.2020202  0.21212121 0.22222222 0.23232323\n",
      " 0.24242424 0.25252525 0.26262626 0.27272727 0.28282828 0.29292929\n",
      " 0.3030303  0.31313131 0.32323232 0.33333333 0.34343434 0.35353535\n",
      " 0.36363636 0.37373737 0.38383838 0.39393939 0.4040404  0.41414141\n",
      " 0.42424242 0.43434343 0.44444444 0.45454545 0.46464646 0.47474747\n",
      " 0.48484848 0.49494949 0.50505051 0.51515152 0.52525253 0.53535354\n",
      " 0.54545455 0.55555556 0.56565657 0.57575758 0.58585859 0.5959596\n",
      " 0.60606061 0.61616162 0.62626263 0.63636364 0.64646465 0.65656566\n",
      " 0.66666667 0.67676768 0.68686869 0.6969697  0.70707071 0.71717172\n",
      " 0.72727273 0.73737374 0.74747475 0.75757576 0.76767677 0.77777778\n",
      " 0.78787879 0.7979798  0.80808081 0.81818182 0.82828283 0.83838384\n",
      " 0.84848485 0.85858586 0.86868687 0.87878788 0.88888889 0.8989899\n",
      " 0.90909091 0.91919192 0.92929293 0.93939394 0.94949495 0.95959596\n",
      " 0.96969697 0.97979798 0.98989899 1.        ]  <= defining a range\n"
     ]
    }
   ],
   "source": [
    "M = np.ones((5,5))*np.array([1,2,3,4,5])\n",
    "\n",
    "print(M.T, \" <= transpose\")\n",
    "print()\n",
    "print(np.linalg.inv(M + 0.5*np.eye(5)), \" <= inverse\")\n",
    "print()\n",
    "print(np.linspace(0,1,100), \" <= defining a range\")"
   ]
  },
  {
   "cell_type": "markdown",
   "id": "0070d9de-02f9-4a36-863a-d33088b073d0",
   "metadata": {},
   "source": [
    " "
   ]
  },
  {
   "cell_type": "markdown",
   "id": "dc5f9710-fbe0-4ba4-b939-f7a4745be22a",
   "metadata": {},
   "source": [
    "So far, we looked at arrays and computations on them... but how can we access and manipulate them?"
   ]
  },
  {
   "cell_type": "code",
   "execution_count": 12,
   "id": "9ff92601-72a6-4384-8e4e-63446c3ad457",
   "metadata": {},
   "outputs": [
    {
     "name": "stdout",
     "output_type": "stream",
     "text": [
      "1.0  <= access a single cell: specificy all indices\n",
      "\n",
      "[1. 0. 0. 0. 0.]  <= access an entire axis range (here, row)\n",
      "\n",
      "[1. 0. 0. 0. 0.]  <= access an entire axis range (here, column)\n",
      "\n",
      "[[1. 0.]\n",
      " [0. 1.]]  <= access some range\n",
      "\n",
      "[1. 1. 1. 1. 1.]  <= access all cells that satisfy some condition\n"
     ]
    }
   ],
   "source": [
    "M = np.eye(5)\n",
    "\n",
    "print(M[0,0], \" <= access a single cell: specificy all indices\")\n",
    "print()\n",
    "print(M[0,:], \" <= access an entire axis range (here, row)\")\n",
    "print()\n",
    "print(M[:,0], \" <= access an entire axis range (here, column)\")\n",
    "print()\n",
    "print(M[2:4, 2:4], \" <= access some range\")\n",
    "print()\n",
    "print(M[M == 1], \" <= access all cells that satisfy some condition\")"
   ]
  },
  {
   "cell_type": "markdown",
   "id": "ec38d961-b751-4ec9-9002-923328e54555",
   "metadata": {},
   "source": [
    "We can also change the shape of an array: this may sometimes be useful when we cannot automatically apply broadcasting"
   ]
  },
  {
   "cell_type": "code",
   "execution_count": 13,
   "id": "5075e27e-89f7-4ca6-86cb-c5fa2e6ca387",
   "metadata": {},
   "outputs": [
    {
     "data": {
      "text/plain": [
       "array([1., 0., 0., 0., 0., 0., 1., 0., 0., 0., 0., 0., 1., 0., 0., 0., 0.,\n",
       "       0., 1., 0., 0., 0., 0., 0., 1.])"
      ]
     },
     "execution_count": 13,
     "metadata": {},
     "output_type": "execute_result"
    }
   ],
   "source": [
    "M.reshape((25,))"
   ]
  },
  {
   "cell_type": "markdown",
   "id": "05f08ae0-f4fd-47e4-948e-f2fc4bd74cc3",
   "metadata": {},
   "source": [
    "We can also access arrays using for-cycles... but this is not very efficient!"
   ]
  },
  {
   "cell_type": "code",
   "execution_count": 15,
   "id": "752414aa-7db6-452a-971f-fba81f46dc65",
   "metadata": {},
   "outputs": [
    {
     "name": "stdout",
     "output_type": "stream",
     "text": [
      "1.0  \n",
      "0.0  \n",
      "0.0  \n",
      "0.0  \n",
      "0.0  \n",
      "\n",
      "0.0  \n",
      "1.0  \n",
      "0.0  \n",
      "0.0  \n",
      "0.0  \n",
      "\n",
      "0.0  \n",
      "0.0  \n",
      "1.0  \n",
      "0.0  \n",
      "0.0  \n",
      "\n",
      "0.0  \n",
      "0.0  \n",
      "0.0  \n",
      "1.0  \n",
      "0.0  \n",
      "\n",
      "0.0  \n",
      "0.0  \n",
      "0.0  \n",
      "0.0  \n",
      "1.0  \n",
      "\n"
     ]
    }
   ],
   "source": [
    "for r in range(M.shape[0]):\n",
    "    for c in range(M.shape[1]):\n",
    "        print(M[r,c], \" \")\n",
    "    print()"
   ]
  },
  {
   "cell_type": "code",
   "execution_count": null,
   "id": "341ad54c-6b54-4d44-a1a7-5a2e32be2abf",
   "metadata": {},
   "outputs": [],
   "source": []
  },
  {
   "cell_type": "code",
   "execution_count": null,
   "id": "10ccc039-7285-48fd-bc9e-dbf544a9898e",
   "metadata": {},
   "outputs": [],
   "source": []
  }
 ],
 "metadata": {
  "kernelspec": {
   "display_name": "Python 3 (ipykernel)",
   "language": "python",
   "name": "python3"
  },
  "language_info": {
   "codemirror_mode": {
    "name": "ipython",
    "version": 3
   },
   "file_extension": ".py",
   "mimetype": "text/x-python",
   "name": "python",
   "nbconvert_exporter": "python",
   "pygments_lexer": "ipython3",
   "version": "3.10.13"
  }
 },
 "nbformat": 4,
 "nbformat_minor": 5
}
