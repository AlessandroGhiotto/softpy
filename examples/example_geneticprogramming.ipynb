{
 "cells": [
  {
   "cell_type": "code",
   "execution_count": 2,
   "id": "9cdb6f38",
   "metadata": {},
   "outputs": [],
   "source": [
    "import sys\n",
    "import numpy as np\n",
    "import matplotlib.pyplot as plt\n",
    "sys.path.append(\"../source/\")\n",
    "from softpy.evolutionary import *\n",
    "from functools import partial\n",
    "import scipy\n",
    "from copy import deepcopy, copy\n",
    "import seaborn as sns"
   ]
  },
  {
   "cell_type": "markdown",
   "id": "db21094a",
   "metadata": {},
   "source": [
    "# Symbolic Programming"
   ]
  },
  {
   "cell_type": "code",
   "execution_count": 3,
   "id": "17807503",
   "metadata": {},
   "outputs": [],
   "source": [
    "def eval_tree_symbolic(t: TreeCandidate, value_pairs: dict, funcs, replace=True):\n",
    "    \n",
    "    def visit(n: TreeCandidate.NodeCandidate, value_pairs: dict, funcs: dict, replace=True):\n",
    "        if n.children is None:\n",
    "            if isinstance(n.function, str) and replace:\n",
    "                return str(value_pairs[n.function])\n",
    "            elif isinstance(n.function, str):\n",
    "                return n.function\n",
    "            elif np.issubdtype(type(n.function), np.number):\n",
    "                return str(n.function)\n",
    "            \n",
    "        else:\n",
    "            strings = [visit(c, value_pairs, funcs, replace) for c in n.children]\n",
    "            if len(n.children) == 2:\n",
    "                if (n.function == \"/\") and (replace) and (eval(strings[1]) == 0):\n",
    "                    return \"1\"\n",
    "                elif (n.function == \"^\") and (replace) and (np.isnan(eval(strings[0] + \"**\" + strings[1])) or np.iscomplex(eval(strings[0] + \"**\" + strings[1]))):\n",
    "                    return \"1\"\n",
    "                else:\n",
    "                    return \"(\" + strings[0] + \" \" + funcs[n.function] + \" \" + strings[1] + \")\"\n",
    "            elif len(n.children) == 1:\n",
    "                if n.function == \"log\":\n",
    "                    return funcs[n.function] + \"(np.abs(\" + strings[0] + \"))\"\n",
    "                else:\n",
    "                    return funcs[n.function] + \"(\" + strings[0] + \")\"\n",
    "            \n",
    "    res = visit(t.root, value_pairs, funcs, replace)\n",
    "    return res\n",
    "        "
   ]
  },
  {
   "cell_type": "code",
   "execution_count": 11,
   "id": "d64d2333",
   "metadata": {},
   "outputs": [],
   "source": [
    "funcs = {\n",
    "    \"+\": \"+\",\n",
    "    \"*\": \"*\",\n",
    "    \"/\": \"/\",\n",
    "    \"-\": \"-\",\n",
    "    \"^\": \"**\",\n",
    "    \"sin\": \"np.sin\",\n",
    "    \"cos\": \"np.cos\",\n",
    "    \"exp\": \"np.exp\",\n",
    "    \"log\": \"np.log\"\n",
    "}\n",
    "\n",
    "arities = [2, 2, 2, 1, 2, 1, 1, 1, 1]\n",
    "\n",
    "def constant_generator(variables=[\"x\"], low=-1.5, upp=1.5):\n",
    "    r = np.random.rand()\n",
    "    if r < 0.7:\n",
    "        return np.random.choice(variables)\n",
    "    else:\n",
    "        return np.random.uniform(low, upp)"
   ]
  },
  {
   "cell_type": "code",
   "execution_count": 12,
   "id": "b2dc8757",
   "metadata": {},
   "outputs": [
    {
     "data": {
      "text/plain": [
       "<matplotlib.collections.PathCollection at 0x7f84e279d000>"
      ]
     },
     "execution_count": 12,
     "metadata": {},
     "output_type": "execute_result"
    },
    {
     "data": {
      "image/png": "[encoded data removed]",
      "text/plain": [
       "<Figure size 640x480 with 1 Axes>"
      ]
     },
     "metadata": {},
     "output_type": "display_data"
    }
   ],
   "source": [
    "def benchmark_func(x):\n",
    "    return x**6 - 2*(x**4) + x**2\n",
    "\n",
    "X = np.random.rand(100)*3 - 1.5\n",
    "y = benchmark_func(X)\n",
    "\n",
    "r = np.linspace(-1.5,1.5,1000)\n",
    "y_all = benchmark_func(r)\n",
    "\n",
    "plt.plot(r, y_all)\n",
    "plt.scatter(X, y)"
   ]
  },
  {
   "cell_type": "code",
   "execution_count": 13,
   "id": "aea8203c",
   "metadata": {},
   "outputs": [],
   "source": [
    "def fitness(c: TreeCandidate, X, y, funcs):\n",
    "    y_pred = ([eval_tree_symbolic(c, {\"x\": x}, funcs) for x in X])\n",
    "    y_pred = np.array([eval(t) for t in y_pred], dtype=y.dtype)\n",
    "    fit = np.sum((y_pred - y)**2)\n",
    "    #print(eval_tree_symbolic(c, {\"x\": \"x\"}, funcs, replace=False), \" \", fit)\n",
    "    return -fit"
   ]
  },
  {
   "cell_type": "code",
   "execution_count": 14,
   "id": "3429f45d",
   "metadata": {},
   "outputs": [],
   "source": [
    "genalgo_symbolic = GeneticAlgorithm(100,\n",
    "                                    TreeCandidate,\n",
    "                                    partial(tournament_selection, tournament_size=7),\n",
    "                                    partial(fitness, X=X, y=y, funcs=funcs),\n",
    "                                    elitism=False,\n",
    "                                    **{\"function_set\": list(funcs.keys()),\n",
    "                                       \"arities\": arities,\n",
    "                                       \"max_depth\": 4,\n",
    "                                       \"max_absolute_depth\": 4,\n",
    "                                       \"constant_generator\": partial(constant_generator, [\"x\"], -1, 1),\n",
    "                                       \"stop_early_prob\": 0.25})"
   ]
  },
  {
   "cell_type": "code",
   "execution_count": 15,
   "id": "31bb1e46",
   "metadata": {},
   "outputs": [
    {
     "name": "stderr",
     "output_type": "stream",
     "text": [
      "<string>:1: RuntimeWarning: invalid value encountered in scalar power\n"
     ]
    }
   ],
   "source": [
    "iters = 100\n",
    "\n",
    "genalgo_symbolic.fit(iters, keep_history=True)\n",
    "history_f = genalgo_symbolic.fitness_h\n",
    "history_b = genalgo_symbolic.best_h"
   ]
  },
  {
   "cell_type": "code",
   "execution_count": 16,
   "id": "538e0b4d",
   "metadata": {},
   "outputs": [
    {
     "data": {
      "text/plain": [
       "'((x * (0.4330759378153508 * x)) * (x * x))'"
      ]
     },
     "execution_count": 16,
     "metadata": {},
     "output_type": "execute_result"
    }
   ],
   "source": [
    "eval_tree_symbolic(history_b[-1], {\"x\": \"x\"}, funcs, replace=False)"
   ]
  },
  {
   "cell_type": "code",
   "execution_count": 17,
   "id": "e91fc6ba",
   "metadata": {},
   "outputs": [
    {
     "data": {
      "text/plain": [
       "(0.0, 100.0)"
      ]
     },
     "execution_count": 17,
     "metadata": {},
     "output_type": "execute_result"
    },
    {
     "data": {
      "image/png": "[encoded data removed]",
      "text/plain": [
       "<Figure size 640x480 with 1 Axes>"
      ]
     },
     "metadata": {},
     "output_type": "display_data"
    }
   ],
   "source": [
    "plt.plot(-history_f)\n",
    "plt.xlim(0,iters)"
   ]
  },
  {
   "cell_type": "code",
   "execution_count": 18,
   "id": "e8c70fd0",
   "metadata": {},
   "outputs": [
    {
     "data": {
      "text/plain": [
       "<matplotlib.collections.PathCollection at 0x7f84dfc287c0>"
      ]
     },
     "execution_count": 18,
     "metadata": {},
     "output_type": "execute_result"
    },
    {
     "data": {
      "image/png": "[encoded data removed]",
      "text/plain": [
       "<Figure size 640x480 with 1 Axes>"
      ]
     },
     "metadata": {},
     "output_type": "display_data"
    }
   ],
   "source": [
    "X = np.random.rand(100)*3 - 1.5\n",
    "y = benchmark_func(X)\n",
    "\n",
    "r = np.linspace(-1.5,1.5,1000)\n",
    "y_all = benchmark_func(r)\n",
    "\n",
    "y_pred = np.array([eval(eval_tree_symbolic(history_b[-1], {\"x\": x}, funcs)) for x in X])\n",
    "\n",
    "plt.plot(r, y_all)\n",
    "plt.scatter(X, y)\n",
    "plt.scatter(X, y_pred)"
   ]
  },
  {
   "cell_type": "markdown",
   "id": "530234fd",
   "metadata": {},
   "source": [
    "# Artificial Ant"
   ]
  },
  {
   "cell_type": "code",
   "execution_count": 11,
   "id": "a7bd2fc1",
   "metadata": {},
   "outputs": [],
   "source": [
    "class ConditionalPlan:\n",
    "    def __init__(self, p_then, p_else):\n",
    "        self.p_then = p_then\n",
    "        self.p_else = p_else\n",
    "        \n",
    "    def __str__(self):\n",
    "        s_t = [str(a) for a in self.p_then]\n",
    "        s_e = [str(a) for a in self.p_else]\n",
    "        print(\"if food-ahead then \" + str(s_t) + \" else \" + str(s_e))"
   ]
  },
  {
   "cell_type": "code",
   "execution_count": 12,
   "id": "267726c1",
   "metadata": {},
   "outputs": [],
   "source": [
    "def eval_tree_ant(t: TreeCandidate):\n",
    "    \n",
    "    def visit(n: TreeCandidate.NodeCandidate, plan):\n",
    "        if n.children is None:\n",
    "            return n.function\n",
    "        else:\n",
    "            if n.function in [\"progn3\", \"progn2\"]:\n",
    "                for c in n.children:\n",
    "                    plan.append(visit(c, plan))\n",
    "            elif n.function == \"if\":\n",
    "                p_t = visit(n.children[0],[])\n",
    "                p_t = p_t if isinstance(p_t, list) else [p_t]\n",
    "                \n",
    "                p_e = visit(n.children[1],[])\n",
    "                p_e = p_e if isinstance(p_e, list) else [p_e]\n",
    "                plan.append(ConditionalPlan(p_t, p_e))\n",
    "            return plan\n",
    "            \n",
    "            \n",
    "    res = visit(t.root, [])\n",
    "    return res\n",
    "        "
   ]
  },
  {
   "cell_type": "code",
   "execution_count": 13,
   "id": "c4e9d8c2",
   "metadata": {},
   "outputs": [],
   "source": [
    "funcs = [\"progn3\", \"progn2\", \"if\"]\n",
    "\n",
    "arities = [3,2,2]\n",
    "\n",
    "def constant_generator():\n",
    "    r = np.random.rand()\n",
    "    if r < 0.5:\n",
    "        return \"move\"\n",
    "    elif 0.5 <= r < 0.75:\n",
    "        return \"right\"\n",
    "    else:\n",
    "        return \"left\""
   ]
  },
  {
   "cell_type": "code",
   "execution_count": 14,
   "id": "744e8e52",
   "metadata": {},
   "outputs": [
    {
     "data": {
      "image/png": "[encoded data removed]",
      "text/plain": [
       "<Figure size 640x480 with 1 Axes>"
      ]
     },
     "metadata": {},
     "output_type": "display_data"
    }
   ],
   "source": [
    "n = 20\n",
    "\n",
    "grid = np.random.choice([0,1], size=(n,n), p=(0.75,0.25))\n",
    "\n",
    "\n",
    "def plot_grid(grid, ax=None):\n",
    "    ax.axis('equal')\n",
    "    ax.axis('off')\n",
    "    for i in range(grid.shape[0]+1):\n",
    "        # horizontal and vertical background lines\n",
    "        ax.plot([i,i], [0,grid.shape[0]], linewidth=0.5, color='black')\n",
    "        ax.plot([0,grid.shape[0]], [i,i], linewidth=0.5, color='black')\n",
    "\n",
    "    for i in range(grid.shape[0]):\n",
    "        for j in range(grid.shape[1]):\n",
    "            if grid[i,j] == 1:\n",
    "                plt.fill([j, j+1, j+1, j],\n",
    "                        grid.shape[1] - np.array([i,i,i+1,i+1]),\n",
    "                        'k')\n",
    "\n",
    "fig, ax = plt.subplots()\n",
    "plot_grid(grid, ax)"
   ]
  },
  {
   "cell_type": "code",
   "execution_count": 15,
   "id": "86e61c73",
   "metadata": {},
   "outputs": [
    {
     "data": {
      "text/plain": [
       "array([[0, 0, 0, 0, 0, 0, 0, 0, 1, 0, 1, 0, 0, 0, 0, 0, 0, 0, 0, 0],\n",
       "       [0, 0, 0, 0, 0, 0, 1, 0, 1, 0, 0, 1, 1, 1, 0, 0, 0, 1, 0, 0],\n",
       "       [0, 0, 0, 0, 0, 0, 1, 0, 0, 0, 0, 1, 0, 0, 0, 0, 1, 0, 0, 0],\n",
       "       [0, 1, 0, 0, 0, 0, 0, 0, 0, 1, 1, 0, 0, 0, 0, 0, 0, 0, 1, 0],\n",
       "       [1, 1, 0, 0, 1, 0, 0, 1, 0, 1, 0, 0, 0, 0, 0, 0, 0, 0, 0, 1],\n",
       "       [0, 1, 1, 1, 1, 0, 0, 0, 0, 0, 0, 0, 0, 1, 0, 0, 1, 0, 0, 0],\n",
       "       [0, 0, 0, 1, 0, 0, 0, 0, 0, 0, 1, 0, 1, 0, 0, 0, 0, 0, 1, 1],\n",
       "       [0, 1, 1, 0, 0, 1, 0, 0, 1, 0, 0, 1, 0, 0, 0, 0, 1, 0, 0, 1],\n",
       "       [0, 0, 0, 0, 0, 0, 0, 1, 0, 0, 0, 0, 1, 0, 1, 0, 0, 0, 0, 1],\n",
       "       [0, 1, 0, 0, 1, 0, 0, 0, 0, 0, 1, 1, 1, 0, 0, 1, 0, 0, 0, 0],\n",
       "       [0, 0, 0, 0, 1, 0, 1, 1, 1, 1, 0, 0, 0, 0, 0, 1, 0, 0, 0, 0],\n",
       "       [0, 1, 0, 0, 0, 0, 0, 0, 0, 0, 0, 0, 0, 0, 0, 0, 0, 1, 0, 1],\n",
       "       [1, 1, 1, 1, 0, 0, 0, 0, 0, 0, 0, 0, 1, 0, 0, 0, 0, 0, 0, 0],\n",
       "       [0, 1, 0, 0, 0, 1, 0, 0, 0, 0, 0, 1, 1, 0, 0, 0, 0, 1, 0, 0],\n",
       "       [1, 0, 1, 0, 0, 0, 0, 1, 1, 1, 1, 0, 1, 0, 0, 0, 0, 1, 1, 0],\n",
       "       [1, 0, 1, 1, 0, 1, 0, 0, 1, 0, 0, 1, 0, 0, 1, 1, 0, 0, 0, 1],\n",
       "       [0, 0, 0, 1, 1, 0, 0, 0, 0, 1, 1, 0, 0, 1, 1, 0, 0, 0, 0, 0],\n",
       "       [0, 0, 0, 0, 0, 0, 0, 1, 0, 0, 0, 0, 0, 1, 1, 1, 0, 0, 0, 1],\n",
       "       [0, 1, 0, 0, 0, 0, 1, 0, 1, 0, 1, 0, 0, 1, 0, 0, 1, 0, 0, 0],\n",
       "       [0, 1, 1, 0, 0, 0, 0, 0, 0, 1, 1, 0, 0, 0, 0, 0, 1, 0, 0, 0]])"
      ]
     },
     "execution_count": 15,
     "metadata": {},
     "output_type": "execute_result"
    }
   ],
   "source": [
    "grid"
   ]
  },
  {
   "cell_type": "code",
   "execution_count": 16,
   "id": "74122e42",
   "metadata": {},
   "outputs": [],
   "source": [
    "class Position:\n",
    "    def __init__(self, n, m):\n",
    "        self.pos = [0,0]\n",
    "        self.toward = \"right\"\n",
    "        self.n = n\n",
    "        self.m = m\n",
    "        self.path = [(self.pos[0], self.pos[1], self.toward)]\n",
    "        \n",
    "    def rotate(self, where=\"right\"):\n",
    "        r_r = {\"up\": \"right\",\n",
    "               \"right\": \"down\",\n",
    "               \"down\": \"left\",\n",
    "               \"left\": \"up\"}\n",
    "        r_l = {\"up\": \"left\",\n",
    "               \"left\": \"down\",\n",
    "               \"down\": \"right\",\n",
    "               \"right\": \"up\"}\n",
    "        \n",
    "        self.toward = r_r[self.toward] if where == \"right\" else r_l[self.toward]\n",
    "        self.path.append((self.pos[0], self.pos[1], self.toward))\n",
    "    \n",
    "    def move(self):\n",
    "        if self.toward == \"up\":\n",
    "            self.pos[0] = (self.pos[0] - 1)%self.n\n",
    "        elif self.toward == \"down\":\n",
    "            self.pos[0] = (self.pos[0] + 1)%self.n\n",
    "        elif self.toward == \"right\":\n",
    "            self.pos[1] = (self.pos[1] + 1)%self.m\n",
    "        elif self.toward == \"left\":\n",
    "            self.pos[1] = (self.pos[1] - 1)%self.m\n",
    "        self.path.append((self.pos[0], self.pos[1], self.toward))\n",
    "            \n",
    "    def check(self):\n",
    "        if self.toward == \"up\":\n",
    "            return ((self.pos[0] + 1)%self.n, self.pos[1])\n",
    "        elif self.toward == \"down\":\n",
    "            return ((self.pos[0] - 1)%self.n, self.pos[1])\n",
    "        elif self.toward == \"right\":\n",
    "            return (self.pos[0], (self.pos[1] + 1)%self.m)\n",
    "        elif self.toward == \"left\":\n",
    "            return (self.pos[0], (self.pos[1] - 1)%self.m)\n",
    "        \n",
    "        \n",
    "def execute_plan(plan, pos: Position, points, grid, time, max_time):\n",
    "        if grid[pos.pos[0],pos.pos[1]] == 1:\n",
    "            points += 1\n",
    "            grid[pos.pos[0],pos.pos[1]] = 0\n",
    "            \n",
    "                    \n",
    "        for act in plan:\n",
    "            if isinstance(act, str):\n",
    "                if act in [\"right\",\"left\"]:\n",
    "                    pos.rotate(where=act)\n",
    "                    time += 1\n",
    "                    if time > max_time:\n",
    "                        return (time, points, grid)\n",
    "            \n",
    "                elif act == \"move\":\n",
    "                    pos.move()\n",
    "                    if grid[pos.pos[0],pos.pos[1]] == 1:\n",
    "                        points += 1\n",
    "                        grid[pos.pos[0],pos.pos[1]] = 0\n",
    "                    time += 1\n",
    "                    if time > max_time:\n",
    "                        return (time, points, grid)\n",
    "            elif isinstance(act, ConditionalPlan):\n",
    "                next_pos = pos.check()\n",
    "                if grid[next_pos[0],next_pos[1]] == 1:\n",
    "                    res = execute_plan(act.p_then, pos, points, grid, time, max_time)\n",
    "                    time = res[0]\n",
    "                    points = res[1]\n",
    "                    grid = res[2]\n",
    "                else:\n",
    "                    res = execute_plan(act.p_else, pos, points, grid, time, max_time)\n",
    "                    time = res[0]\n",
    "                    points = res[1]\n",
    "                    grid = res[2]\n",
    "        return time, points, grid\n",
    "\n",
    "def fitness(c: TreeCandidate, grid, max_time, return_grid=False):\n",
    "        \n",
    "    pos = Position(grid.shape[0], grid.shape[1])\n",
    "    time = 0\n",
    "    points = 0\n",
    "    my_grid = copy(grid)\n",
    "    \n",
    "    while time < max_time:\n",
    "        plan = eval_tree_ant(c)\n",
    "        res = execute_plan(plan, pos, points, my_grid, time, max_time)\n",
    "        time = res[0]\n",
    "        points = res[1]\n",
    "        my_grid = res[2]\n",
    "     \n",
    "    if return_grid:\n",
    "        return points, my_grid, pos.path\n",
    "    else:\n",
    "        return points"
   ]
  },
  {
   "cell_type": "code",
   "execution_count": 21,
   "id": "5a2f123c",
   "metadata": {},
   "outputs": [],
   "source": [
    "max_time = 10\n",
    "\n",
    "genalgo_ant = GeneticAlgorithm(10,\n",
    "                               TreeCandidate,\n",
    "                               partial(tournament_selection, tournament_size=7),\n",
    "                               partial(fitness, grid=grid, max_time=max_time),\n",
    "                               elitism=False,\n",
    "                               **{\"function_set\": funcs,\n",
    "                                  \"arities\": arities,\n",
    "                                  \"max_depth\": 3,\n",
    "                                  \"max_absolute_depth\": 5,\n",
    "                                  \"constant_generator\": constant_generator,\n",
    "                                  \"stop_early_prob\": 0.2})"
   ]
  },
  {
   "cell_type": "code",
   "execution_count": 22,
   "id": "bb98584a",
   "metadata": {},
   "outputs": [
    {
     "name": "stdout",
     "output_type": "stream",
     "text": [
      "0\n",
      "1\n"
     ]
    },
    {
     "ename": "KeyboardInterrupt",
     "evalue": "",
     "output_type": "error",
     "traceback": [
      "\u001b[0;31m---------------------------------------------------------------------------\u001b[0m",
      "\u001b[0;31mKeyboardInterrupt\u001b[0m                         Traceback (most recent call last)",
      "Cell \u001b[0;32mIn[22], line 3\u001b[0m\n\u001b[1;32m      1\u001b[0m iters \u001b[38;5;241m=\u001b[39m \u001b[38;5;241m10\u001b[39m\n\u001b[0;32m----> 3\u001b[0m \u001b[43mgenalgo_ant\u001b[49m\u001b[38;5;241;43m.\u001b[39;49m\u001b[43mfit\u001b[49m\u001b[43m(\u001b[49m\u001b[43miters\u001b[49m\u001b[43m,\u001b[49m\u001b[43m \u001b[49m\u001b[43mkeep_history\u001b[49m\u001b[38;5;241;43m=\u001b[39;49m\u001b[38;5;28;43;01mTrue\u001b[39;49;00m\u001b[43m,\u001b[49m\u001b[43m \u001b[49m\u001b[43mshow_iters\u001b[49m\u001b[38;5;241;43m=\u001b[39;49m\u001b[38;5;28;43;01mTrue\u001b[39;49;00m\u001b[43m)\u001b[49m\n\u001b[1;32m      4\u001b[0m history_f \u001b[38;5;241m=\u001b[39m genalgo_ant\u001b[38;5;241m.\u001b[39mfitness_h\n\u001b[1;32m      5\u001b[0m history_b \u001b[38;5;241m=\u001b[39m genalgo_ant\u001b[38;5;241m.\u001b[39mbest_h\n",
      "File \u001b[0;32m/mnt/c/users/onyri/Documents/GitHub/Fuzzy-Systems-and-Evolutionary-Computing/examples/../source/evolutionary/genetic.py:46\u001b[0m, in \u001b[0;36mGeneticAlgorithm.fit\u001b[0;34m(self, n_iters, keep_history, show_iters)\u001b[0m\n\u001b[1;32m     44\u001b[0m \u001b[38;5;28;01mif\u001b[39;00m show_iters:\n\u001b[1;32m     45\u001b[0m     \u001b[38;5;28mprint\u001b[39m(it)\n\u001b[0;32m---> 46\u001b[0m \u001b[38;5;28mself\u001b[39m\u001b[38;5;241m.\u001b[39mfitness \u001b[38;5;241m=\u001b[39m \u001b[43mnp\u001b[49m\u001b[38;5;241;43m.\u001b[39;49m\u001b[43mvectorize\u001b[49m\u001b[43m(\u001b[49m\u001b[38;5;28;43mself\u001b[39;49m\u001b[38;5;241;43m.\u001b[39;49m\u001b[43mfitness_func\u001b[49m\u001b[43m)\u001b[49m\u001b[43m(\u001b[49m\u001b[38;5;28;43mself\u001b[39;49m\u001b[38;5;241;43m.\u001b[39;49m\u001b[43mpopulation\u001b[49m\u001b[43m)\u001b[49m\n\u001b[1;32m     47\u001b[0m v \u001b[38;5;241m=\u001b[39m np\u001b[38;5;241m.\u001b[39mmax(\u001b[38;5;28mself\u001b[39m\u001b[38;5;241m.\u001b[39mfitness)\n\u001b[1;32m     48\u001b[0m \u001b[38;5;28mself\u001b[39m\u001b[38;5;241m.\u001b[39mbest \u001b[38;5;241m=\u001b[39m \u001b[38;5;28mself\u001b[39m\u001b[38;5;241m.\u001b[39mpopulation[np\u001b[38;5;241m.\u001b[39margmax(\u001b[38;5;28mself\u001b[39m\u001b[38;5;241m.\u001b[39mfitness)] \u001b[38;5;28;01mif\u001b[39;00m v \u001b[38;5;241m>\u001b[39m \u001b[38;5;28mself\u001b[39m\u001b[38;5;241m.\u001b[39mfitness_best \u001b[38;5;28;01melse\u001b[39;00m \u001b[38;5;28mself\u001b[39m\u001b[38;5;241m.\u001b[39mbest\n",
      "File \u001b[0;32m~/anaconda3/envs/ml/lib/python3.10/site-packages/numpy/lib/function_base.py:2329\u001b[0m, in \u001b[0;36mvectorize.__call__\u001b[0;34m(self, *args, **kwargs)\u001b[0m\n\u001b[1;32m   2326\u001b[0m     vargs \u001b[38;5;241m=\u001b[39m [args[_i] \u001b[38;5;28;01mfor\u001b[39;00m _i \u001b[38;5;129;01min\u001b[39;00m inds]\n\u001b[1;32m   2327\u001b[0m     vargs\u001b[38;5;241m.\u001b[39mextend([kwargs[_n] \u001b[38;5;28;01mfor\u001b[39;00m _n \u001b[38;5;129;01min\u001b[39;00m names])\n\u001b[0;32m-> 2329\u001b[0m \u001b[38;5;28;01mreturn\u001b[39;00m \u001b[38;5;28;43mself\u001b[39;49m\u001b[38;5;241;43m.\u001b[39;49m\u001b[43m_vectorize_call\u001b[49m\u001b[43m(\u001b[49m\u001b[43mfunc\u001b[49m\u001b[38;5;241;43m=\u001b[39;49m\u001b[43mfunc\u001b[49m\u001b[43m,\u001b[49m\u001b[43m \u001b[49m\u001b[43margs\u001b[49m\u001b[38;5;241;43m=\u001b[39;49m\u001b[43mvargs\u001b[49m\u001b[43m)\u001b[49m\n",
      "File \u001b[0;32m~/anaconda3/envs/ml/lib/python3.10/site-packages/numpy/lib/function_base.py:2412\u001b[0m, in \u001b[0;36mvectorize._vectorize_call\u001b[0;34m(self, func, args)\u001b[0m\n\u001b[1;32m   2409\u001b[0m \u001b[38;5;66;03m# Convert args to object arrays first\u001b[39;00m\n\u001b[1;32m   2410\u001b[0m inputs \u001b[38;5;241m=\u001b[39m [asanyarray(a, dtype\u001b[38;5;241m=\u001b[39m\u001b[38;5;28mobject\u001b[39m) \u001b[38;5;28;01mfor\u001b[39;00m a \u001b[38;5;129;01min\u001b[39;00m args]\n\u001b[0;32m-> 2412\u001b[0m outputs \u001b[38;5;241m=\u001b[39m \u001b[43mufunc\u001b[49m\u001b[43m(\u001b[49m\u001b[38;5;241;43m*\u001b[39;49m\u001b[43minputs\u001b[49m\u001b[43m)\u001b[49m\n\u001b[1;32m   2414\u001b[0m \u001b[38;5;28;01mif\u001b[39;00m ufunc\u001b[38;5;241m.\u001b[39mnout \u001b[38;5;241m==\u001b[39m \u001b[38;5;241m1\u001b[39m:\n\u001b[1;32m   2415\u001b[0m     res \u001b[38;5;241m=\u001b[39m asanyarray(outputs, dtype\u001b[38;5;241m=\u001b[39motypes[\u001b[38;5;241m0\u001b[39m])\n",
      "Cell \u001b[0;32mIn[16], line 89\u001b[0m, in \u001b[0;36mfitness\u001b[0;34m(c, grid, max_time, return_grid)\u001b[0m\n\u001b[1;32m     87\u001b[0m \u001b[38;5;28;01mwhile\u001b[39;00m time \u001b[38;5;241m<\u001b[39m max_time:\n\u001b[1;32m     88\u001b[0m     plan \u001b[38;5;241m=\u001b[39m eval_tree_ant(c)\n\u001b[0;32m---> 89\u001b[0m     res \u001b[38;5;241m=\u001b[39m \u001b[43mexecute_plan\u001b[49m\u001b[43m(\u001b[49m\u001b[43mplan\u001b[49m\u001b[43m,\u001b[49m\u001b[43m \u001b[49m\u001b[43mpos\u001b[49m\u001b[43m,\u001b[49m\u001b[43m \u001b[49m\u001b[43mpoints\u001b[49m\u001b[43m,\u001b[49m\u001b[43m \u001b[49m\u001b[43mmy_grid\u001b[49m\u001b[43m,\u001b[49m\u001b[43m \u001b[49m\u001b[43mtime\u001b[49m\u001b[43m,\u001b[49m\u001b[43m \u001b[49m\u001b[43mmax_time\u001b[49m\u001b[43m)\u001b[49m\n\u001b[1;32m     90\u001b[0m     time \u001b[38;5;241m=\u001b[39m res[\u001b[38;5;241m0\u001b[39m]\n\u001b[1;32m     91\u001b[0m     points \u001b[38;5;241m=\u001b[39m res[\u001b[38;5;241m1\u001b[39m]\n",
      "\u001b[0;31mKeyboardInterrupt\u001b[0m: "
     ]
    }
   ],
   "source": [
    "iters = 10\n",
    "\n",
    "genalgo_ant.fit(iters, keep_history=True, show_iters=True)\n",
    "history_f = genalgo_ant.fitness_h\n",
    "history_b = genalgo_ant.best_h"
   ]
  },
  {
   "cell_type": "code",
   "execution_count": null,
   "id": "3d35c9b6",
   "metadata": {},
   "outputs": [],
   "source": [
    "print(history_f)\n",
    "plt.plot(history_f)\n",
    "plt.xlim(0,iters)\n",
    "plt.ylim(0, np.sum(grid))"
   ]
  },
  {
   "cell_type": "code",
   "execution_count": null,
   "id": "c41f5bc6",
   "metadata": {},
   "outputs": [],
   "source": [
    "def pretty_print(plan, indent):\n",
    "    for act in plan:\n",
    "        if act in [\"move\", \"left\", \"right\", \"down\", \"up\"]:\n",
    "            print(\"\\t\"*indent + act)\n",
    "        elif isinstance(act, ConditionalPlan):\n",
    "            print(\"\\t\"*indent + \"if food-ahead then\")\n",
    "            pretty_print(act.p_then, indent+1)\n",
    "            print(\"\\t\"*indent + \"else\")\n",
    "            pretty_print(act.p_else, indent+1)\n",
    "\n",
    "plan = eval_tree_ant(history_b[-1])\n",
    "pretty_print(plan, 0)"
   ]
  },
  {
   "cell_type": "code",
   "execution_count": null,
   "id": "7edc2e2a",
   "metadata": {},
   "outputs": [],
   "source": [
    "%matplotlib notebook\n",
    "from matplotlib.animation import FuncAnimation\n",
    "\n",
    "fig, ax = plt.subplots(figsize = (5,5))\n",
    "plt.rcParams[\"animation.html\"] = \"jshtml\"\n",
    "\n",
    "score, my_grid, path = fitness(history_b[-1], grid, max_time, return_grid=True)\n",
    "\n",
    "palette = sns.color_palette(\"viridis\", len(path))\n",
    "\n",
    "plot_grid(grid, ax)\n",
    "\n",
    "scat = ax.scatter([],[]) \n",
    "\n",
    "grid_size = my_grid.shape[0]\n",
    "\n",
    "def animate_path(frame_num):\n",
    "    arrow = {\n",
    "        \"up\" : \"^\",\n",
    "        \"down\": \"v\",\n",
    "        \"right\": \">\",\n",
    "        \"left\": \"<\"\n",
    "    }\n",
    "\n",
    "    path_x = np.array([grid_size - (p[0] + 0.5) for p in path[:frame_num]])\n",
    "    path_y = np.array([ (p[1] + 0.5) for p in path[:frame_num]])\n",
    "    markers = np.array([arrow[p[2]] for p in path[:frame_num]])\n",
    "    scat.set_offsets(np.vstack([path_y, path_x]).T)\n",
    "    scat.set_color(palette[:frame_num])\n",
    "    return scat\n",
    "\n",
    "anim = FuncAnimation(fig, animate_path, frames=len(path), interval=1000)\n",
    "plt.close()"
   ]
  },
  {
   "cell_type": "code",
   "execution_count": null,
   "id": "69619499",
   "metadata": {},
   "outputs": [],
   "source": [
    "anim"
   ]
  },
  {
   "cell_type": "code",
   "execution_count": null,
   "id": "e5be6f16",
   "metadata": {},
   "outputs": [],
   "source": []
  }
 ],
 "metadata": {
  "kernelspec": {
   "display_name": "Python 3 (ipykernel)",
   "language": "python",
   "name": "python3"
  },
  "language_info": {
   "codemirror_mode": {
    "name": "ipython",
    "version": 3
   },
   "file_extension": ".py",
   "mimetype": "text/x-python",
   "name": "python",
   "nbconvert_exporter": "python",
   "pygments_lexer": "ipython3",
   "version": "3.10.13"
  }
 },
 "nbformat": 4,
 "nbformat_minor": 5
}
